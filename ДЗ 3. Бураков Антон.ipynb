{
 "cells": [
  {
   "cell_type": "code",
   "execution_count": 85,
   "id": "b6298261",
   "metadata": {},
   "outputs": [],
   "source": [
    "import pandas as pd\n",
    "import matplotlib.pyplot as plt\n",
    "import numpy as np\n",
    "import statsmodels.api as sm\n",
    "import math"
   ]
  },
  {
   "cell_type": "markdown",
   "id": "e219ba3a",
   "metadata": {},
   "source": [
    "# Задание 3"
   ]
  },
  {
   "cell_type": "markdown",
   "id": "1ab0639c",
   "metadata": {},
   "source": [
    "Выгружаем данные"
   ]
  },
  {
   "cell_type": "code",
   "execution_count": 53,
   "id": "b888650f",
   "metadata": {},
   "outputs": [],
   "source": [
    "curs_data = pd.read_csv('Курс доллара, цена за барель.csv')"
   ]
  },
  {
   "cell_type": "code",
   "execution_count": 56,
   "id": "affe6fcd",
   "metadata": {},
   "outputs": [
    {
     "data": {
      "text/html": [
       "<div>\n",
       "<style scoped>\n",
       "    .dataframe tbody tr th:only-of-type {\n",
       "        vertical-align: middle;\n",
       "    }\n",
       "\n",
       "    .dataframe tbody tr th {\n",
       "        vertical-align: top;\n",
       "    }\n",
       "\n",
       "    .dataframe thead th {\n",
       "        text-align: right;\n",
       "    }\n",
       "</style>\n",
       "<table border=\"1\" class=\"dataframe\">\n",
       "  <thead>\n",
       "    <tr style=\"text-align: right;\">\n",
       "      <th></th>\n",
       "      <th>Date</th>\n",
       "      <th>Цена нефти в долларах</th>\n",
       "      <th>Курс доллара к рублю</th>\n",
       "      <th>Цена нефти в рублях</th>\n",
       "    </tr>\n",
       "  </thead>\n",
       "  <tbody>\n",
       "    <tr>\n",
       "      <th>0</th>\n",
       "      <td>Dec 07, 2023</td>\n",
       "      <td>74.09</td>\n",
       "      <td>91.4250</td>\n",
       "      <td>6773.67825</td>\n",
       "    </tr>\n",
       "    <tr>\n",
       "      <th>1</th>\n",
       "      <td>Dec 06, 2023</td>\n",
       "      <td>74.30</td>\n",
       "      <td>90.1775</td>\n",
       "      <td>6700.18825</td>\n",
       "    </tr>\n",
       "    <tr>\n",
       "      <th>2</th>\n",
       "      <td>Dec 05, 2023</td>\n",
       "      <td>77.20</td>\n",
       "      <td>91.4650</td>\n",
       "      <td>7061.09800</td>\n",
       "    </tr>\n",
       "    <tr>\n",
       "      <th>3</th>\n",
       "      <td>Dec 04, 2023</td>\n",
       "      <td>78.03</td>\n",
       "      <td>91.1900</td>\n",
       "      <td>7115.55570</td>\n",
       "    </tr>\n",
       "    <tr>\n",
       "      <th>4</th>\n",
       "      <td>Dec 01, 2023</td>\n",
       "      <td>78.88</td>\n",
       "      <td>89.9400</td>\n",
       "      <td>7094.46720</td>\n",
       "    </tr>\n",
       "  </tbody>\n",
       "</table>\n",
       "</div>"
      ],
      "text/plain": [
       "           Date  Цена нефти в долларах  Курс доллара к рублю  \\\n",
       "0  Dec 07, 2023                  74.09               91.4250   \n",
       "1  Dec 06, 2023                  74.30               90.1775   \n",
       "2  Dec 05, 2023                  77.20               91.4650   \n",
       "3  Dec 04, 2023                  78.03               91.1900   \n",
       "4  Dec 01, 2023                  78.88               89.9400   \n",
       "\n",
       "   Цена нефти в рублях  \n",
       "0           6773.67825  \n",
       "1           6700.18825  \n",
       "2           7061.09800  \n",
       "3           7115.55570  \n",
       "4           7094.46720  "
      ]
     },
     "execution_count": 56,
     "metadata": {},
     "output_type": "execute_result"
    }
   ],
   "source": [
    "curs_data.head()"
   ]
  },
  {
   "cell_type": "markdown",
   "id": "4f737748",
   "metadata": {},
   "source": [
    "Расчет цены нефти в рублях"
   ]
  },
  {
   "cell_type": "code",
   "execution_count": 55,
   "id": "f52a568c",
   "metadata": {},
   "outputs": [],
   "source": [
    "curs_data['Цена нефти в рублях'] = curs_data['Цена нефти в долларах'] * curs_data['Курс доллара к рублю']"
   ]
  },
  {
   "cell_type": "markdown",
   "id": "bd9dbc0b",
   "metadata": {},
   "source": [
    "Очистка от выбросов"
   ]
  },
  {
   "cell_type": "code",
   "execution_count": 64,
   "id": "f6b0c45b",
   "metadata": {},
   "outputs": [],
   "source": [
    "curs_data = curs_data.drop(189)"
   ]
  },
  {
   "cell_type": "markdown",
   "id": "29c7a539",
   "metadata": {},
   "source": [
    "Построение точечного графика"
   ]
  },
  {
   "cell_type": "code",
   "execution_count": 66,
   "id": "6c317039",
   "metadata": {},
   "outputs": [
    {
     "data": {
      "text/plain": [
       "<matplotlib.collections.PathCollection at 0x131771c10>"
      ]
     },
     "execution_count": 66,
     "metadata": {},
     "output_type": "execute_result"
    },
    {
     "data": {
      "image/png": "[encoded data removed]",
      "text/plain": [
       "<Figure size 640x480 with 1 Axes>"
      ]
     },
     "metadata": {},
     "output_type": "display_data"
    }
   ],
   "source": [
    "plt.scatter(curs_data['Цена нефти в рублях'], curs_data['Курс доллара к рублю'])"
   ]
  },
  {
   "cell_type": "markdown",
   "id": "eee56495",
   "metadata": {},
   "source": [
    "Прослеживается линейная зависимость между двумя величинами\n",
    "Для того, чтобы удостовериться в этом построим линйеную регресиию"
   ]
  },
  {
   "cell_type": "code",
   "execution_count": 69,
   "id": "e8ca6fc1",
   "metadata": {},
   "outputs": [
    {
     "name": "stdout",
     "output_type": "stream",
     "text": [
      "                                  OLS Regression Results                                 \n",
      "=========================================================================================\n",
      "Dep. Variable:     Курс доллара к рублю   R-squared (uncentered):                   0.995\n",
      "Model:                              OLS   Adj. R-squared (uncentered):              0.995\n",
      "Method:                   Least Squares   F-statistic:                          5.366e+04\n",
      "Date:                  Fri, 08 Dec 2023   Prob (F-statistic):                   1.09e-294\n",
      "Time:                          01:14:37   Log-Likelihood:                         -800.31\n",
      "No. Observations:                   252   AIC:                                      1603.\n",
      "Df Residuals:                       251   BIC:                                      1606.\n",
      "Df Model:                             1                                                  \n",
      "Covariance Type:              nonrobust                                                  \n",
      "=======================================================================================\n",
      "                          coef    std err          t      P>|t|      [0.025      0.975]\n",
      "---------------------------------------------------------------------------------------\n",
      "Цена нефти в рублях     0.0120   5.18e-05    231.640      0.000       0.012       0.012\n",
      "==============================================================================\n",
      "Omnibus:                        8.095   Durbin-Watson:                   0.085\n",
      "Prob(Omnibus):                  0.017   Jarque-Bera (JB):                8.445\n",
      "Skew:                          -0.438   Prob(JB):                       0.0147\n",
      "Kurtosis:                       2.809   Cond. No.                         1.00\n",
      "==============================================================================\n",
      "\n",
      "Notes:\n",
      "[1] R² is computed without centering (uncentered) since the model does not contain a constant.\n",
      "[2] Standard Errors assume that the covariance matrix of the errors is correctly specified.\n"
     ]
    }
   ],
   "source": [
    "# Выделим переменные\n",
    "x = curs_data[\"Цена нефти в рублях\"]\n",
    "y = curs_data[\"Курс доллара к рублю\"]\n",
    "\n",
    "# Построим модель\n",
    "model = sm.OLS(y, x).fit()\n",
    "\n",
    "# Выведем результаты\n",
    "print(model.summary())"
   ]
  },
  {
   "cell_type": "code",
   "execution_count": 70,
   "id": "0150c30d",
   "metadata": {},
   "outputs": [],
   "source": [
    "import scipy.stats as stats"
   ]
  },
  {
   "cell_type": "code",
   "execution_count": 96,
   "id": "8b114d07",
   "metadata": {},
   "outputs": [
    {
     "data": {
      "text/plain": [
       "1.650947025187233"
      ]
     },
     "execution_count": 96,
     "metadata": {},
     "output_type": "execute_result"
    }
   ],
   "source": [
    "# Критическое значение критерия Стьюдента при уровне значимости 0.05 и 98 степенях свободы\n",
    "stats.t.ppf(0.95, 251)"
   ]
  },
  {
   "cell_type": "markdown",
   "id": "4c0c27b4",
   "metadata": {},
   "source": [
    "Значимость параметров модели можно проверить с помощью критерия Стьюдента. Для этого необходимо вычислить стандартную ошибку коэффициента и значение t-статистики. Значение t-статистики должно быть больше критического значения критерия Стьюдента, чтобы можно было сделать вывод о значимости коэффициента.\n",
    "\n",
    "В нашем случае значение t-статистики равно 231.64, которое значительно больше критического значения критерия Стьюдента при уровне значимости 0.05, равного 1.65. Таким образом, можно сделать вывод о том, что коэффициент при переменной price_oil значим.\n",
    "\n",
    "Таким образом, можно заключить, что между курсом доллара США к рублю и ценой на нефть существует линейная зависимость. "
   ]
  },
  {
   "cell_type": "markdown",
   "id": "a1735d90",
   "metadata": {},
   "source": [
    "Отразим прямую линейной зависимости на графике"
   ]
  },
  {
   "cell_type": "code",
   "execution_count": 76,
   "id": "471ba8c8",
   "metadata": {},
   "outputs": [
    {
     "data": {
      "text/plain": [
       "<matplotlib.collections.PathCollection at 0x1325db8d0>"
      ]
     },
     "execution_count": 76,
     "metadata": {},
     "output_type": "execute_result"
    },
    {
     "data": {
      "image/png": "[encoded data removed]",
      "text/plain": [
       "<Figure size 640x480 with 1 Axes>"
      ]
     },
     "metadata": {},
     "output_type": "display_data"
    }
   ],
   "source": [
    "x = np.arange(5000, 9000)\n",
    "y = 0.0120 * x + 5.18e-05\n",
    "plt.plot(x, y)\n",
    "plt.scatter(curs_data['Цена нефти в рублях'], curs_data['Курс доллара к рублю'])"
   ]
  },
  {
   "cell_type": "markdown",
   "id": "fef34095",
   "metadata": {},
   "source": [
    "# Задание 4"
   ]
  },
  {
   "cell_type": "code",
   "execution_count": 82,
   "id": "b7b7f829",
   "metadata": {},
   "outputs": [],
   "source": [
    "curs_data_log = pd.read_csv('Курс доллара, цена за барель.csv')"
   ]
  },
  {
   "cell_type": "code",
   "execution_count": 83,
   "id": "1b86c2c4",
   "metadata": {},
   "outputs": [],
   "source": [
    "curs_data_log['Цена нефти в рублях'] = curs_data_log['Цена нефти в долларах'] * curs_data_log['Курс доллара к рублю']"
   ]
  },
  {
   "cell_type": "markdown",
   "id": "f079c5d1",
   "metadata": {},
   "source": [
    "Очистка от выбросов"
   ]
  },
  {
   "cell_type": "code",
   "execution_count": 84,
   "id": "748ed557",
   "metadata": {},
   "outputs": [],
   "source": [
    "curs_data_log = curs_data_log.drop(189)"
   ]
  },
  {
   "cell_type": "code",
   "execution_count": 87,
   "id": "84e5da0c",
   "metadata": {},
   "outputs": [
    {
     "name": "stdout",
     "output_type": "stream",
     "text": [
      "<class 'pandas.core.frame.DataFrame'>\n",
      "Int64Index: 252 entries, 0 to 252\n",
      "Data columns (total 4 columns):\n",
      " #   Column                 Non-Null Count  Dtype  \n",
      "---  ------                 --------------  -----  \n",
      " 0   Date                   252 non-null    object \n",
      " 1   Цена нефти в долларах  252 non-null    float64\n",
      " 2   Курс доллара к рублю   252 non-null    float64\n",
      " 3   Цена нефти в рублях    252 non-null    float64\n",
      "dtypes: float64(3), object(1)\n",
      "memory usage: 9.8+ KB\n"
     ]
    }
   ],
   "source": [
    "curs_data_log.info()"
   ]
  },
  {
   "cell_type": "code",
   "execution_count": 88,
   "id": "67294301",
   "metadata": {},
   "outputs": [],
   "source": [
    "curs_data_log['Цена нефти в рублях, log'] = np.log(curs_data_log['Цена нефти в рублях'])"
   ]
  },
  {
   "cell_type": "code",
   "execution_count": 89,
   "id": "b010f339",
   "metadata": {},
   "outputs": [],
   "source": [
    "curs_data_log['Курс доллара к рублю, log'] = np.log(curs_data_log['Курс доллара к рублю'])"
   ]
  },
  {
   "cell_type": "code",
   "execution_count": 90,
   "id": "cfbdaf50",
   "metadata": {},
   "outputs": [
    {
     "data": {
      "text/html": [
       "<div>\n",
       "<style scoped>\n",
       "    .dataframe tbody tr th:only-of-type {\n",
       "        vertical-align: middle;\n",
       "    }\n",
       "\n",
       "    .dataframe tbody tr th {\n",
       "        vertical-align: top;\n",
       "    }\n",
       "\n",
       "    .dataframe thead th {\n",
       "        text-align: right;\n",
       "    }\n",
       "</style>\n",
       "<table border=\"1\" class=\"dataframe\">\n",
       "  <thead>\n",
       "    <tr style=\"text-align: right;\">\n",
       "      <th></th>\n",
       "      <th>Date</th>\n",
       "      <th>Цена нефти в долларах</th>\n",
       "      <th>Курс доллара к рублю</th>\n",
       "      <th>Цена нефти в рублях</th>\n",
       "      <th>Цена нефти в рублях, log</th>\n",
       "      <th>Курс доллара к рублю, log</th>\n",
       "    </tr>\n",
       "  </thead>\n",
       "  <tbody>\n",
       "    <tr>\n",
       "      <th>0</th>\n",
       "      <td>Dec 07, 2023</td>\n",
       "      <td>74.09</td>\n",
       "      <td>91.4250</td>\n",
       "      <td>6773.67825</td>\n",
       "      <td>8.820800</td>\n",
       "      <td>4.515519</td>\n",
       "    </tr>\n",
       "    <tr>\n",
       "      <th>1</th>\n",
       "      <td>Dec 06, 2023</td>\n",
       "      <td>74.30</td>\n",
       "      <td>90.1775</td>\n",
       "      <td>6700.18825</td>\n",
       "      <td>8.809891</td>\n",
       "      <td>4.501780</td>\n",
       "    </tr>\n",
       "    <tr>\n",
       "      <th>2</th>\n",
       "      <td>Dec 05, 2023</td>\n",
       "      <td>77.20</td>\n",
       "      <td>91.4650</td>\n",
       "      <td>7061.09800</td>\n",
       "      <td>8.862356</td>\n",
       "      <td>4.515956</td>\n",
       "    </tr>\n",
       "    <tr>\n",
       "      <th>3</th>\n",
       "      <td>Dec 04, 2023</td>\n",
       "      <td>78.03</td>\n",
       "      <td>91.1900</td>\n",
       "      <td>7115.55570</td>\n",
       "      <td>8.870039</td>\n",
       "      <td>4.512945</td>\n",
       "    </tr>\n",
       "    <tr>\n",
       "      <th>4</th>\n",
       "      <td>Dec 01, 2023</td>\n",
       "      <td>78.88</td>\n",
       "      <td>89.9400</td>\n",
       "      <td>7094.46720</td>\n",
       "      <td>8.867070</td>\n",
       "      <td>4.499143</td>\n",
       "    </tr>\n",
       "  </tbody>\n",
       "</table>\n",
       "</div>"
      ],
      "text/plain": [
       "           Date  Цена нефти в долларах  Курс доллара к рублю  \\\n",
       "0  Dec 07, 2023                  74.09               91.4250   \n",
       "1  Dec 06, 2023                  74.30               90.1775   \n",
       "2  Dec 05, 2023                  77.20               91.4650   \n",
       "3  Dec 04, 2023                  78.03               91.1900   \n",
       "4  Dec 01, 2023                  78.88               89.9400   \n",
       "\n",
       "   Цена нефти в рублях  Цена нефти в рублях, log  Курс доллара к рублю, log  \n",
       "0           6773.67825                  8.820800                   4.515519  \n",
       "1           6700.18825                  8.809891                   4.501780  \n",
       "2           7061.09800                  8.862356                   4.515956  \n",
       "3           7115.55570                  8.870039                   4.512945  \n",
       "4           7094.46720                  8.867070                   4.499143  "
      ]
     },
     "execution_count": 90,
     "metadata": {},
     "output_type": "execute_result"
    }
   ],
   "source": [
    "curs_data_log.head()"
   ]
  },
  {
   "cell_type": "code",
   "execution_count": 92,
   "id": "df2cd0e6",
   "metadata": {},
   "outputs": [
    {
     "data": {
      "text/plain": [
       "<matplotlib.collections.PathCollection at 0x1315b1050>"
      ]
     },
     "execution_count": 92,
     "metadata": {},
     "output_type": "execute_result"
    },
    {
     "data": {
      "image/png": "[encoded data removed]",
      "text/plain": [
       "<Figure size 640x480 with 1 Axes>"
      ]
     },
     "metadata": {},
     "output_type": "display_data"
    }
   ],
   "source": [
    "plt.scatter(curs_data_log['Цена нефти в рублях, log'], curs_data_log['Курс доллара к рублю, log'])"
   ]
  },
  {
   "cell_type": "markdown",
   "id": "e40385db",
   "metadata": {},
   "source": [
    "Прослеживается линейная зависимость между двумя величинами\n",
    "Для того, чтобы удостовериться в этом построим линйеную регресиию"
   ]
  },
  {
   "cell_type": "code",
   "execution_count": 95,
   "id": "f638c513",
   "metadata": {},
   "outputs": [
    {
     "name": "stdout",
     "output_type": "stream",
     "text": [
      "                                    OLS Regression Results                                    \n",
      "==============================================================================================\n",
      "Dep. Variable:     Курс доллара к рублю, log   R-squared (uncentered):                   1.000\n",
      "Model:                                   OLS   Adj. R-squared (uncentered):              1.000\n",
      "Method:                        Least Squares   F-statistic:                          1.702e+06\n",
      "Date:                       Fri, 08 Dec 2023   Prob (F-statistic):                        0.00\n",
      "Time:                               01:59:39   Log-Likelihood:                          378.90\n",
      "No. Observations:                        252   AIC:                                     -755.8\n",
      "Df Residuals:                            251   BIC:                                     -752.3\n",
      "Df Model:                                  1                                                  \n",
      "Covariance Type:                   nonrobust                                                  \n",
      "============================================================================================\n",
      "                               coef    std err          t      P>|t|      [0.025      0.975]\n",
      "--------------------------------------------------------------------------------------------\n",
      "Цена нефти в рублях, log     0.5012      0.000   1304.546      0.000       0.500       0.502\n",
      "==============================================================================\n",
      "Omnibus:                       25.571   Durbin-Watson:                   0.057\n",
      "Prob(Omnibus):                  0.000   Jarque-Bera (JB):               21.904\n",
      "Skew:                          -0.638   Prob(JB):                     1.75e-05\n",
      "Kurtosis:                       2.323   Cond. No.                         1.00\n",
      "==============================================================================\n",
      "\n",
      "Notes:\n",
      "[1] R² is computed without centering (uncentered) since the model does not contain a constant.\n",
      "[2] Standard Errors assume that the covariance matrix of the errors is correctly specified.\n"
     ]
    }
   ],
   "source": [
    "# Выделим переменные\n",
    "x = curs_data_log[\"Цена нефти в рублях, log\"]\n",
    "y = curs_data_log[\"Курс доллара к рублю, log\"]\n",
    "\n",
    "# Построим модель\n",
    "model = sm.OLS(y, x).fit()\n",
    "\n",
    "# Выведем результаты\n",
    "print(model.summary())"
   ]
  },
  {
   "cell_type": "code",
   "execution_count": 97,
   "id": "82009b9a",
   "metadata": {},
   "outputs": [
    {
     "data": {
      "text/plain": [
       "1.650947025187233"
      ]
     },
     "execution_count": 97,
     "metadata": {},
     "output_type": "execute_result"
    }
   ],
   "source": [
    "# Критическое значение критерия Стьюдента при уровне значимости 0.05 и 98 степенях свободы\n",
    "stats.t.ppf(0.95, 251)"
   ]
  },
  {
   "cell_type": "markdown",
   "id": "37eb7ae0",
   "metadata": {},
   "source": [
    "Значимость параметров модели можно проверить с помощью критерия Стьюдента. Для этого необходимо вычислить стандартную ошибку коэффициента и значение t-статистики. Значение t-статистики должно быть больше критического значения критерия Стьюдента, чтобы можно было сделать вывод о значимости коэффициента.\n",
    "\n",
    "В нашем случае значение t-статистики равно 1304.546, которое значительно больше критического значения критерия Стьюдента при уровне значимости 0.05, равного 1.65. Таким образом, можно сделать вывод о том, что коэффициент при переменной price_oil значим.\n",
    "\n",
    "Таким образом, можно заключить, что между курсом доллара США к рублю и ценой на нефть существует линейная зависимость. "
   ]
  },
  {
   "cell_type": "markdown",
   "id": "1b7ffae8",
   "metadata": {},
   "source": [
    "Отразим прямую линейной зависимости на графике"
   ]
  },
  {
   "cell_type": "code",
   "execution_count": 114,
   "id": "59c955c7",
   "metadata": {},
   "outputs": [
    {
     "data": {
      "text/plain": [
       "<matplotlib.collections.PathCollection at 0x140c10890>"
      ]
     },
     "execution_count": 114,
     "metadata": {},
     "output_type": "execute_result"
    },
    {
     "data": {
      "image/png": "[encoded data removed]",
      "text/plain": [
       "<Figure size 640x480 with 1 Axes>"
      ]
     },
     "metadata": {},
     "output_type": "display_data"
    }
   ],
   "source": [
    "x = np.arange(8.3, 9.4)\n",
    "y = 0.5012 * x + 0\n",
    "plt.plot(x, y)\n",
    "plt.scatter(curs_data_log['Цена нефти в рублях, log'], curs_data_log['Курс доллара к рублю, log'])"
   ]
  },
  {
   "cell_type": "code",
   "execution_count": null,
   "id": "a7a2321c",
   "metadata": {},
   "outputs": [],
   "source": []
  },
  {
   "cell_type": "code",
   "execution_count": null,
   "id": "03b418ca",
   "metadata": {},
   "outputs": [],
   "source": []
  }
 ],
 "metadata": {
  "kernelspec": {
   "display_name": "Python 3 (ipykernel)",
   "language": "python",
   "name": "python3"
  },
  "language_info": {
   "codemirror_mode": {
    "name": "ipython",
    "version": 3
   },
   "file_extension": ".py",
   "mimetype": "text/x-python",
   "name": "python",
   "nbconvert_exporter": "python",
   "pygments_lexer": "ipython3",
   "version": "3.11.4"
  }
 },
 "nbformat": 4,
 "nbformat_minor": 5
}
