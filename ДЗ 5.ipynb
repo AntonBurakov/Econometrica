{
 "cells": [
  {
   "cell_type": "markdown",
   "id": "f9e7aedc",
   "metadata": {},
   "source": [
    "### 1. Записать систему уравнений для процентных ставок для рассматриваемой Компании."
   ]
  },
  {
   "cell_type": "code",
   "execution_count": 1,
   "id": "4fb73ce5",
   "metadata": {},
   "outputs": [],
   "source": [
    "import numpy as np\n",
    "import pandas as pd\n",
    "import matplotlib.pyplot as plt"
   ]
  },
  {
   "cell_type": "code",
   "execution_count": 4,
   "id": "60bd3e97",
   "metadata": {},
   "outputs": [
    {
     "data": {
      "text/html": [
       "<div>\n",
       "<style scoped>\n",
       "    .dataframe tbody tr th:only-of-type {\n",
       "        vertical-align: middle;\n",
       "    }\n",
       "\n",
       "    .dataframe tbody tr th {\n",
       "        vertical-align: top;\n",
       "    }\n",
       "\n",
       "    .dataframe thead th {\n",
       "        text-align: right;\n",
       "    }\n",
       "</style>\n",
       "<table border=\"1\" class=\"dataframe\">\n",
       "  <thead>\n",
       "    <tr style=\"text-align: right;\">\n",
       "      <th></th>\n",
       "      <th>Дата проведения аукциона</th>\n",
       "      <th>Регистрационный номер выпуска</th>\n",
       "      <th>Дата расчетов по аукциону</th>\n",
       "      <th>Дата погашения облигаций</th>\n",
       "      <th>Номинал</th>\n",
       "      <th>Средневзвешенная цена (% от номинала)</th>\n",
       "      <th>Размещенный объем по номиналу (млн руб.)</th>\n",
       "      <th>Размещенный объем по ценам заявок (млн руб.)</th>\n",
       "    </tr>\n",
       "  </thead>\n",
       "  <tbody>\n",
       "    <tr>\n",
       "      <th>0</th>\n",
       "      <td>04.09.2019</td>\n",
       "      <td>4-10-22BR1-7</td>\n",
       "      <td>05.09.2019</td>\n",
       "      <td>12.09.2019</td>\n",
       "      <td>1000</td>\n",
       "      <td>999.950</td>\n",
       "      <td>25 142,1</td>\n",
       "      <td>24 272,9</td>\n",
       "    </tr>\n",
       "    <tr>\n",
       "      <th>1</th>\n",
       "      <td>28.08.2019</td>\n",
       "      <td>4-10-22BR1-7</td>\n",
       "      <td>29.08.2019</td>\n",
       "      <td>12.09.2019</td>\n",
       "      <td>1000</td>\n",
       "      <td>999.910</td>\n",
       "      <td>25 170,0</td>\n",
       "      <td>25 572,7</td>\n",
       "    </tr>\n",
       "    <tr>\n",
       "      <th>2</th>\n",
       "      <td>21.08.2019</td>\n",
       "      <td>4-10-22BR1-7</td>\n",
       "      <td>22.08.2019</td>\n",
       "      <td>12.09.2019</td>\n",
       "      <td>1000</td>\n",
       "      <td>999.860</td>\n",
       "      <td>58 833,6</td>\n",
       "      <td>59 690,2</td>\n",
       "    </tr>\n",
       "    <tr>\n",
       "      <th>3</th>\n",
       "      <td>14.08.2019</td>\n",
       "      <td>4-10-22BR1-7</td>\n",
       "      <td>15.08.2019</td>\n",
       "      <td>12.09.2019</td>\n",
       "      <td>1000</td>\n",
       "      <td>999.833</td>\n",
       "      <td>95 285,6</td>\n",
       "      <td>96 538,0</td>\n",
       "    </tr>\n",
       "    <tr>\n",
       "      <th>4</th>\n",
       "      <td>07.08.2019</td>\n",
       "      <td>4-10-22BR1-7</td>\n",
       "      <td>08.08.2019</td>\n",
       "      <td>12.09.2019</td>\n",
       "      <td>1000</td>\n",
       "      <td>999.760</td>\n",
       "      <td>59 957,2</td>\n",
       "      <td>64 734,7</td>\n",
       "    </tr>\n",
       "  </tbody>\n",
       "</table>\n",
       "</div>"
      ],
      "text/plain": [
       "  Дата проведения аукциона Регистрационный номер выпуска  \\\n",
       "0               04.09.2019                  4-10-22BR1-7   \n",
       "1               28.08.2019                  4-10-22BR1-7   \n",
       "2               21.08.2019                  4-10-22BR1-7   \n",
       "3               14.08.2019                  4-10-22BR1-7   \n",
       "4               07.08.2019                  4-10-22BR1-7   \n",
       "\n",
       "  Дата расчетов по аукциону Дата погашения облигаций  Номинал  \\\n",
       "0                05.09.2019               12.09.2019     1000   \n",
       "1                29.08.2019               12.09.2019     1000   \n",
       "2                22.08.2019               12.09.2019     1000   \n",
       "3                15.08.2019               12.09.2019     1000   \n",
       "4                08.08.2019               12.09.2019     1000   \n",
       "\n",
       "   Средневзвешенная цена (% от номинала)  \\\n",
       "0                                999.950   \n",
       "1                                999.910   \n",
       "2                                999.860   \n",
       "3                                999.833   \n",
       "4                                999.760   \n",
       "\n",
       "  Размещенный объем по номиналу (млн руб.)  \\\n",
       "0                                 25 142,1   \n",
       "1                                 25 170,0   \n",
       "2                                 58 833,6   \n",
       "3                                 95 285,6   \n",
       "4                                 59 957,2   \n",
       "\n",
       "  Размещенный объем по ценам заявок (млн руб.)  \n",
       "0                                     24 272,9  \n",
       "1                                     25 572,7  \n",
       "2                                     59 690,2  \n",
       "3                                     96 538,0  \n",
       "4                                     64 734,7  "
      ]
     },
     "execution_count": 4,
     "metadata": {},
     "output_type": "execute_result"
    }
   ],
   "source": [
    "data = pd.read_csv('Облигации.csv')\n",
    "data.head()"
   ]
  },
  {
   "cell_type": "code",
   "execution_count": 5,
   "id": "bcda9157",
   "metadata": {},
   "outputs": [
    {
     "name": "stdout",
     "output_type": "stream",
     "text": [
      "<class 'pandas.core.frame.DataFrame'>\n",
      "RangeIndex: 13 entries, 0 to 12\n",
      "Data columns (total 8 columns):\n",
      " #   Column                                        Non-Null Count  Dtype  \n",
      "---  ------                                        --------------  -----  \n",
      " 0   Дата проведения аукциона                      13 non-null     object \n",
      " 1   Регистрационный номер выпуска                 13 non-null     object \n",
      " 2   Дата расчетов по аукциону                     13 non-null     object \n",
      " 3   Дата погашения облигаций                      13 non-null     object \n",
      " 4   Номинал                                       13 non-null     int64  \n",
      " 5   Средневзвешенная цена (% от номинала)         13 non-null     float64\n",
      " 6   Размещенный объем по номиналу (млн руб.)      13 non-null     object \n",
      " 7   Размещенный объем по ценам заявок (млн руб.)  13 non-null     object \n",
      "dtypes: float64(1), int64(1), object(6)\n",
      "memory usage: 964.0+ bytes\n"
     ]
    }
   ],
   "source": [
    "data.info()"
   ]
  },
  {
   "cell_type": "code",
   "execution_count": 6,
   "id": "9a4daadb",
   "metadata": {},
   "outputs": [
    {
     "data": {
      "text/html": [
       "<div>\n",
       "<style scoped>\n",
       "    .dataframe tbody tr th:only-of-type {\n",
       "        vertical-align: middle;\n",
       "    }\n",
       "\n",
       "    .dataframe tbody tr th {\n",
       "        vertical-align: top;\n",
       "    }\n",
       "\n",
       "    .dataframe thead th {\n",
       "        text-align: right;\n",
       "    }\n",
       "</style>\n",
       "<table border=\"1\" class=\"dataframe\">\n",
       "  <thead>\n",
       "    <tr style=\"text-align: right;\">\n",
       "      <th></th>\n",
       "      <th>Дата проведения аукциона</th>\n",
       "      <th>Регистрационный номер выпуска</th>\n",
       "      <th>Дата расчетов по аукциону</th>\n",
       "      <th>Дата погашения облигаций</th>\n",
       "      <th>Номинал</th>\n",
       "      <th>Средневзвешенная цена (% от номинала)</th>\n",
       "      <th>Размещенный объем по номиналу (млн руб.)</th>\n",
       "      <th>Размещенный объем по ценам заявок (млн руб.)</th>\n",
       "      <th>Дата</th>\n",
       "    </tr>\n",
       "  </thead>\n",
       "  <tbody>\n",
       "    <tr>\n",
       "      <th>12</th>\n",
       "      <td>09.06.2019</td>\n",
       "      <td>4-10-22BR1-7</td>\n",
       "      <td>13.06.2019</td>\n",
       "      <td>12.09.2019</td>\n",
       "      <td>1000</td>\n",
       "      <td>999.409</td>\n",
       "      <td>88 166,1</td>\n",
       "      <td>87 223,7</td>\n",
       "      <td>12</td>\n",
       "    </tr>\n",
       "    <tr>\n",
       "      <th>11</th>\n",
       "      <td>19.06.2019</td>\n",
       "      <td>4-10-22BR1-7</td>\n",
       "      <td>20.06.2019</td>\n",
       "      <td>12.09.2019</td>\n",
       "      <td>1000</td>\n",
       "      <td>999.470</td>\n",
       "      <td>81 213,7</td>\n",
       "      <td>80 211,9</td>\n",
       "      <td>11</td>\n",
       "    </tr>\n",
       "    <tr>\n",
       "      <th>10</th>\n",
       "      <td>26.06.2019</td>\n",
       "      <td>4-10-22BR1-7</td>\n",
       "      <td>27.06.2019</td>\n",
       "      <td>12.09.2019</td>\n",
       "      <td>1000</td>\n",
       "      <td>999.485</td>\n",
       "      <td>3 450,0</td>\n",
       "      <td>3 460,6</td>\n",
       "      <td>10</td>\n",
       "    </tr>\n",
       "    <tr>\n",
       "      <th>9</th>\n",
       "      <td>03.07.2019</td>\n",
       "      <td>4-10-22BR1-7</td>\n",
       "      <td>04.07.2019</td>\n",
       "      <td>12.09.2019</td>\n",
       "      <td>1000</td>\n",
       "      <td>999.531</td>\n",
       "      <td>119 302,6</td>\n",
       "      <td>122 659,2</td>\n",
       "      <td>9</td>\n",
       "    </tr>\n",
       "    <tr>\n",
       "      <th>8</th>\n",
       "      <td>10.07.2019</td>\n",
       "      <td>4-10-22BR1-7</td>\n",
       "      <td>11.07.2019</td>\n",
       "      <td>12.09.2019</td>\n",
       "      <td>1000</td>\n",
       "      <td>999.581</td>\n",
       "      <td>101 939,1</td>\n",
       "      <td>102 544,8</td>\n",
       "      <td>8</td>\n",
       "    </tr>\n",
       "  </tbody>\n",
       "</table>\n",
       "</div>"
      ],
      "text/plain": [
       "   Дата проведения аукциона Регистрационный номер выпуска  \\\n",
       "12               09.06.2019                  4-10-22BR1-7   \n",
       "11               19.06.2019                  4-10-22BR1-7   \n",
       "10               26.06.2019                  4-10-22BR1-7   \n",
       "9                03.07.2019                  4-10-22BR1-7   \n",
       "8                10.07.2019                  4-10-22BR1-7   \n",
       "\n",
       "   Дата расчетов по аукциону Дата погашения облигаций  Номинал  \\\n",
       "12                13.06.2019               12.09.2019     1000   \n",
       "11                20.06.2019               12.09.2019     1000   \n",
       "10                27.06.2019               12.09.2019     1000   \n",
       "9                 04.07.2019               12.09.2019     1000   \n",
       "8                 11.07.2019               12.09.2019     1000   \n",
       "\n",
       "    Средневзвешенная цена (% от номинала)  \\\n",
       "12                                999.409   \n",
       "11                                999.470   \n",
       "10                                999.485   \n",
       "9                                 999.531   \n",
       "8                                 999.581   \n",
       "\n",
       "   Размещенный объем по номиналу (млн руб.)  \\\n",
       "12                                 88 166,1   \n",
       "11                                 81 213,7   \n",
       "10                                  3 450,0   \n",
       "9                                 119 302,6   \n",
       "8                                 101 939,1   \n",
       "\n",
       "   Размещенный объем по ценам заявок (млн руб.)  Дата  \n",
       "12                                     87 223,7    12  \n",
       "11                                     80 211,9    11  \n",
       "10                                      3 460,6    10  \n",
       "9                                     122 659,2     9  \n",
       "8                                     102 544,8     8  "
      ]
     },
     "execution_count": 6,
     "metadata": {},
     "output_type": "execute_result"
    }
   ],
   "source": [
    "data['Дата'] = df.index\n",
    "data = data.sort_values(by='Дата', ascending = False)\n",
    "data.head()"
   ]
  },
  {
   "cell_type": "code",
   "execution_count": 8,
   "id": "5ff617a2",
   "metadata": {},
   "outputs": [],
   "source": [
    "def calculate_yield(data):\n",
    "    r = 7.25\n",
    "    col_dates = data['Дата']\n",
    "    col_adj_close = data['Средневзвешенная цена (% от номинала)']\n",
    "\n",
    "    col_log_adj_close = np.log(col_adj_close)\n",
    "    col_diff_log_adj_close = col_log_adj_close - col_log_adj_close.shift(1)\n",
    "    col_cum_diff_log_adj_close = (col_diff_log_adj_close * col_dates).cumsum()\n",
    "    yield_curve = ((col_cum_diff_log_adj_close / col_adj_close) * (r/12)).cumsum()\n",
    "    return yield_curve\n",
    "\n",
    "yield_curve = calculate_yield(data)"
   ]
  },
  {
   "cell_type": "code",
   "execution_count": 9,
   "id": "ef50b9fc",
   "metadata": {},
   "outputs": [
    {
     "data": {
      "text/plain": [
       "12             NaN\n",
       "11    4.058383e-07\n",
       "10    9.023896e-07\n",
       "9     1.649284e-06\n",
       "8     2.638016e-06\n",
       "7     3.863704e-06\n",
       "6     5.209058e-06\n",
       "5     6.705475e-06\n",
       "4     8.298547e-06\n",
       "3     1.002386e-05\n",
       "2     1.178177e-05\n",
       "1     1.356980e-05\n",
       "dtype: float64"
      ]
     },
     "execution_count": 9,
     "metadata": {},
     "output_type": "execute_result"
    }
   ],
   "source": [
    "yield_curve.head(12)"
   ]
  },
  {
   "cell_type": "code",
   "execution_count": 11,
   "id": "4175caab",
   "metadata": {},
   "outputs": [
    {
     "data": {
      "image/png": "[encoded data removed]",
      "text/plain": [
       "<Figure size 640x480 with 1 Axes>"
      ]
     },
     "metadata": {},
     "output_type": "display_data"
    }
   ],
   "source": [
    "plt.plot(yield_curve, color='r')\n",
    "plt.show()"
   ]
  },
  {
   "cell_type": "code",
   "execution_count": null,
   "id": "15b9e0fb",
   "metadata": {},
   "outputs": [],
   "source": []
  },
  {
   "cell_type": "code",
   "execution_count": null,
   "id": "3269dac3",
   "metadata": {},
   "outputs": [],
   "source": []
  },
  {
   "cell_type": "code",
   "execution_count": null,
   "id": "f53c036b",
   "metadata": {},
   "outputs": [],
   "source": []
  },
  {
   "cell_type": "markdown",
   "id": "d44f8162",
   "metadata": {},
   "source": [
    "### 2. Сделать кусочно-постоянное решение для кривой процентных ставок."
   ]
  },
  {
   "cell_type": "code",
   "execution_count": 17,
   "id": "6f33563f",
   "metadata": {},
   "outputs": [
    {
     "name": "stdout",
     "output_type": "stream",
     "text": [
      "[6.541139222855076e-07, 2.7170010580051604e-06, 6.737693475590646e-06, 1.1791811811062686e-05, 1.535776179702905e-05]\n"
     ]
    }
   ],
   "source": [
    "segments = 4\n",
    "step = int(len(yield_curve) / segments)\n",
    "df_сurve = pd.DataFrame()\n",
    "df_сurve['rate'] = yield_curve\n",
    "\n",
    "cp_curve = [df_сurve['rate'].iloc[i: i+step].mean() for i in range(0, len(df_сurve),step)]\n",
    "per = np.array([5, 4, 3, 2, 1])\n",
    "print(cp_curve)"
   ]
  },
  {
   "cell_type": "code",
   "execution_count": 18,
   "id": "99b8059c",
   "metadata": {},
   "outputs": [
    {
     "data": {
      "image/png": "[encoded data removed]",
      "text/plain": [
       "<Figure size 640x480 with 1 Axes>"
      ]
     },
     "metadata": {},
     "output_type": "display_data"
    }
   ],
   "source": [
    "plt.scatter(per, cp_curve, label='Данные', color = 'r')\n",
    "plt.xlabel('Период')\n",
    "plt.ylabel('Процентные ставки')\n",
    "plt.legend()\n",
    "plt.show()"
   ]
  }
 ],
 "metadata": {
  "kernelspec": {
   "display_name": "Python 3 (ipykernel)",
   "language": "python",
   "name": "python3"
  },
  "language_info": {
   "codemirror_mode": {
    "name": "ipython",
    "version": 3
   },
   "file_extension": ".py",
   "mimetype": "text/x-python",
   "name": "python",
   "nbconvert_exporter": "python",
   "pygments_lexer": "ipython3",
   "version": "3.11.4"
  }
 },
 "nbformat": 4,
 "nbformat_minor": 5
}
