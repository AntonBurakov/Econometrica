{
 "cells": [
  {
   "cell_type": "code",
   "execution_count": 11,
   "id": "6538e8cf",
   "metadata": {},
   "outputs": [],
   "source": [
    "import pandas as pd\n",
    "import matplotlib.pyplot as plt\n",
    "import numpy as np"
   ]
  },
  {
   "cell_type": "code",
   "execution_count": 2,
   "id": "e2f643e6",
   "metadata": {},
   "outputs": [],
   "source": [
    "df = pd.read_csv('Новая таблица - Лист1.csv')"
   ]
  },
  {
   "cell_type": "code",
   "execution_count": 3,
   "id": "3a314923",
   "metadata": {},
   "outputs": [
    {
     "data": {
      "text/html": [
       "<div>\n",
       "<style scoped>\n",
       "    .dataframe tbody tr th:only-of-type {\n",
       "        vertical-align: middle;\n",
       "    }\n",
       "\n",
       "    .dataframe tbody tr th {\n",
       "        vertical-align: top;\n",
       "    }\n",
       "\n",
       "    .dataframe thead th {\n",
       "        text-align: right;\n",
       "    }\n",
       "</style>\n",
       "<table border=\"1\" class=\"dataframe\">\n",
       "  <thead>\n",
       "    <tr style=\"text-align: right;\">\n",
       "      <th></th>\n",
       "      <th>Date</th>\n",
       "      <th>Open</th>\n",
       "      <th>High</th>\n",
       "      <th>Low</th>\n",
       "      <th>Close*</th>\n",
       "      <th>Adj Close**</th>\n",
       "      <th>Volume</th>\n",
       "    </tr>\n",
       "  </thead>\n",
       "  <tbody>\n",
       "    <tr>\n",
       "      <th>0</th>\n",
       "      <td>Dec 06, 2023</td>\n",
       "      <td>77.06</td>\n",
       "      <td>77.63</td>\n",
       "      <td>74.12</td>\n",
       "      <td>74.43</td>\n",
       "      <td>74.43</td>\n",
       "      <td>30,868</td>\n",
       "    </tr>\n",
       "    <tr>\n",
       "      <th>1</th>\n",
       "      <td>Dec 05, 2023</td>\n",
       "      <td>78.20</td>\n",
       "      <td>79.07</td>\n",
       "      <td>76.98</td>\n",
       "      <td>77.20</td>\n",
       "      <td>77.20</td>\n",
       "      <td>32,582</td>\n",
       "    </tr>\n",
       "    <tr>\n",
       "      <th>2</th>\n",
       "      <td>Dec 04, 2023</td>\n",
       "      <td>79.43</td>\n",
       "      <td>79.66</td>\n",
       "      <td>77.52</td>\n",
       "      <td>78.03</td>\n",
       "      <td>78.03</td>\n",
       "      <td>32,582</td>\n",
       "    </tr>\n",
       "    <tr>\n",
       "      <th>3</th>\n",
       "      <td>Dec 01, 2023</td>\n",
       "      <td>80.47</td>\n",
       "      <td>81.52</td>\n",
       "      <td>78.75</td>\n",
       "      <td>78.88</td>\n",
       "      <td>78.88</td>\n",
       "      <td>29,551</td>\n",
       "    </tr>\n",
       "    <tr>\n",
       "      <th>4</th>\n",
       "      <td>Nov 30, 2023</td>\n",
       "      <td>82.87</td>\n",
       "      <td>84.71</td>\n",
       "      <td>82.67</td>\n",
       "      <td>82.83</td>\n",
       "      <td>82.83</td>\n",
       "      <td>59,32</td>\n",
       "    </tr>\n",
       "  </tbody>\n",
       "</table>\n",
       "</div>"
      ],
      "text/plain": [
       "           Date   Open   High    Low  Close*  Adj Close**  Volume\n",
       "0  Dec 06, 2023  77.06  77.63  74.12   74.43        74.43  30,868\n",
       "1  Dec 05, 2023  78.20  79.07  76.98   77.20        77.20  32,582\n",
       "2  Dec 04, 2023  79.43  79.66  77.52   78.03        78.03  32,582\n",
       "3  Dec 01, 2023  80.47  81.52  78.75   78.88        78.88  29,551\n",
       "4  Nov 30, 2023  82.87  84.71  82.67   82.83        82.83   59,32"
      ]
     },
     "execution_count": 3,
     "metadata": {},
     "output_type": "execute_result"
    }
   ],
   "source": [
    "df.head()"
   ]
  },
  {
   "cell_type": "code",
   "execution_count": 4,
   "id": "4a5ef5e3",
   "metadata": {},
   "outputs": [],
   "source": [
    "df['curs_dollara'] = (df['Open'] + df['High']) / 2"
   ]
  },
  {
   "cell_type": "code",
   "execution_count": 28,
   "id": "95736b6a",
   "metadata": {},
   "outputs": [
    {
     "data": {
      "text/html": [
       "<div>\n",
       "<style scoped>\n",
       "    .dataframe tbody tr th:only-of-type {\n",
       "        vertical-align: middle;\n",
       "    }\n",
       "\n",
       "    .dataframe tbody tr th {\n",
       "        vertical-align: top;\n",
       "    }\n",
       "\n",
       "    .dataframe thead th {\n",
       "        text-align: right;\n",
       "    }\n",
       "</style>\n",
       "<table border=\"1\" class=\"dataframe\">\n",
       "  <thead>\n",
       "    <tr style=\"text-align: right;\">\n",
       "      <th></th>\n",
       "      <th>Date</th>\n",
       "      <th>Open</th>\n",
       "      <th>High</th>\n",
       "      <th>Low</th>\n",
       "      <th>Close*</th>\n",
       "      <th>Adj Close**</th>\n",
       "      <th>Volume</th>\n",
       "      <th>curs_dollara</th>\n",
       "    </tr>\n",
       "  </thead>\n",
       "  <tbody>\n",
       "    <tr>\n",
       "      <th>0</th>\n",
       "      <td>Dec 06, 2023</td>\n",
       "      <td>77.06</td>\n",
       "      <td>77.63</td>\n",
       "      <td>74.12</td>\n",
       "      <td>74.43</td>\n",
       "      <td>74.43</td>\n",
       "      <td>30.868</td>\n",
       "      <td>77.345</td>\n",
       "    </tr>\n",
       "    <tr>\n",
       "      <th>1</th>\n",
       "      <td>Dec 05, 2023</td>\n",
       "      <td>78.20</td>\n",
       "      <td>79.07</td>\n",
       "      <td>76.98</td>\n",
       "      <td>77.20</td>\n",
       "      <td>77.20</td>\n",
       "      <td>32.582</td>\n",
       "      <td>78.635</td>\n",
       "    </tr>\n",
       "    <tr>\n",
       "      <th>2</th>\n",
       "      <td>Dec 04, 2023</td>\n",
       "      <td>79.43</td>\n",
       "      <td>79.66</td>\n",
       "      <td>77.52</td>\n",
       "      <td>78.03</td>\n",
       "      <td>78.03</td>\n",
       "      <td>32.582</td>\n",
       "      <td>79.545</td>\n",
       "    </tr>\n",
       "    <tr>\n",
       "      <th>3</th>\n",
       "      <td>Dec 01, 2023</td>\n",
       "      <td>80.47</td>\n",
       "      <td>81.52</td>\n",
       "      <td>78.75</td>\n",
       "      <td>78.88</td>\n",
       "      <td>78.88</td>\n",
       "      <td>29.551</td>\n",
       "      <td>80.995</td>\n",
       "    </tr>\n",
       "    <tr>\n",
       "      <th>4</th>\n",
       "      <td>Nov 30, 2023</td>\n",
       "      <td>82.87</td>\n",
       "      <td>84.71</td>\n",
       "      <td>82.67</td>\n",
       "      <td>82.83</td>\n",
       "      <td>82.83</td>\n",
       "      <td>59.32</td>\n",
       "      <td>83.790</td>\n",
       "    </tr>\n",
       "  </tbody>\n",
       "</table>\n",
       "</div>"
      ],
      "text/plain": [
       "           Date   Open   High    Low  Close*  Adj Close**  Volume  \\\n",
       "0  Dec 06, 2023  77.06  77.63  74.12   74.43        74.43  30.868   \n",
       "1  Dec 05, 2023  78.20  79.07  76.98   77.20        77.20  32.582   \n",
       "2  Dec 04, 2023  79.43  79.66  77.52   78.03        78.03  32.582   \n",
       "3  Dec 01, 2023  80.47  81.52  78.75   78.88        78.88  29.551   \n",
       "4  Nov 30, 2023  82.87  84.71  82.67   82.83        82.83   59.32   \n",
       "\n",
       "   curs_dollara  \n",
       "0        77.345  \n",
       "1        78.635  \n",
       "2        79.545  \n",
       "3        80.995  \n",
       "4        83.790  "
      ]
     },
     "execution_count": 28,
     "metadata": {},
     "output_type": "execute_result"
    }
   ],
   "source": [
    "df.head()"
   ]
  },
  {
   "cell_type": "code",
   "execution_count": 27,
   "id": "9681024c",
   "metadata": {},
   "outputs": [],
   "source": [
    "df['Volume'] = df['Volume'].str.replace(',', '.')"
   ]
  },
  {
   "cell_type": "code",
   "execution_count": 30,
   "id": "5379182e",
   "metadata": {},
   "outputs": [],
   "source": [
    "df = df.drop(169)"
   ]
  },
  {
   "cell_type": "code",
   "execution_count": 31,
   "id": "8ed476fb",
   "metadata": {},
   "outputs": [],
   "source": [
    "df['Volume'] = pd.to_numeric(df['Volume'])"
   ]
  },
  {
   "cell_type": "code",
   "execution_count": 32,
   "id": "04a9e84d",
   "metadata": {},
   "outputs": [
    {
     "name": "stdout",
     "output_type": "stream",
     "text": [
      "<class 'pandas.core.frame.DataFrame'>\n",
      "Int64Index: 252 entries, 0 to 252\n",
      "Data columns (total 8 columns):\n",
      " #   Column        Non-Null Count  Dtype  \n",
      "---  ------        --------------  -----  \n",
      " 0   Date          252 non-null    object \n",
      " 1   Open          252 non-null    float64\n",
      " 2   High          252 non-null    float64\n",
      " 3   Low           252 non-null    float64\n",
      " 4   Close*        252 non-null    float64\n",
      " 5   Adj Close**   252 non-null    float64\n",
      " 6   Volume        252 non-null    float64\n",
      " 7   curs_dollara  252 non-null    float64\n",
      "dtypes: float64(7), object(1)\n",
      "memory usage: 17.7+ KB\n"
     ]
    }
   ],
   "source": [
    "df.info()"
   ]
  },
  {
   "cell_type": "code",
   "execution_count": 33,
   "id": "e70a4025",
   "metadata": {},
   "outputs": [
    {
     "data": {
      "text/plain": [
       "<matplotlib.collections.PathCollection at 0x127c7a190>"
      ]
     },
     "execution_count": 33,
     "metadata": {},
     "output_type": "execute_result"
    },
    {
     "data": {
      "image/png": "[encoded data removed]",
      "text/plain": [
       "<Figure size 640x480 with 1 Axes>"
      ]
     },
     "metadata": {},
     "output_type": "display_data"
    }
   ],
   "source": [
    "plt.scatter(df['Volume'], df['curs_dollara'])"
   ]
  },
  {
   "cell_type": "code",
   "execution_count": 35,
   "id": "3664433f",
   "metadata": {},
   "outputs": [],
   "source": [
    "from sklearn.model_selection import train_test_split"
   ]
  },
  {
   "cell_type": "code",
   "execution_count": 43,
   "id": "7cb75c73",
   "metadata": {},
   "outputs": [],
   "source": [
    "X, y = df[['Volume']], df['curs_dollara']\n",
    "X_train, X_test, y_train, y_test = train_test_split(X, y, test_size=0.2)"
   ]
  },
  {
   "cell_type": "code",
   "execution_count": 44,
   "id": "4de7f93f",
   "metadata": {},
   "outputs": [],
   "source": [
    "from sklearn.linear_model import LinearRegression"
   ]
  },
  {
   "cell_type": "code",
   "execution_count": 45,
   "id": "d9aa34b8",
   "metadata": {},
   "outputs": [
    {
     "data": {
      "text/html": [
       "<style>#sk-container-id-1 {color: black;}#sk-container-id-1 pre{padding: 0;}#sk-container-id-1 div.sk-toggleable {background-color: white;}#sk-container-id-1 label.sk-toggleable__label {cursor: pointer;display: block;width: 100%;margin-bottom: 0;padding: 0.3em;box-sizing: border-box;text-align: center;}#sk-container-id-1 label.sk-toggleable__label-arrow:before {content: \"▸\";float: left;margin-right: 0.25em;color: #696969;}#sk-container-id-1 label.sk-toggleable__label-arrow:hover:before {color: black;}#sk-container-id-1 div.sk-estimator:hover label.sk-toggleable__label-arrow:before {color: black;}#sk-container-id-1 div.sk-toggleable__content {max-height: 0;max-width: 0;overflow: hidden;text-align: left;background-color: #f0f8ff;}#sk-container-id-1 div.sk-toggleable__content pre {margin: 0.2em;color: black;border-radius: 0.25em;background-color: #f0f8ff;}#sk-container-id-1 input.sk-toggleable__control:checked~div.sk-toggleable__content {max-height: 200px;max-width: 100%;overflow: auto;}#sk-container-id-1 input.sk-toggleable__control:checked~label.sk-toggleable__label-arrow:before {content: \"▾\";}#sk-container-id-1 div.sk-estimator input.sk-toggleable__control:checked~label.sk-toggleable__label {background-color: #d4ebff;}#sk-container-id-1 div.sk-label input.sk-toggleable__control:checked~label.sk-toggleable__label {background-color: #d4ebff;}#sk-container-id-1 input.sk-hidden--visually {border: 0;clip: rect(1px 1px 1px 1px);clip: rect(1px, 1px, 1px, 1px);height: 1px;margin: -1px;overflow: hidden;padding: 0;position: absolute;width: 1px;}#sk-container-id-1 div.sk-estimator {font-family: monospace;background-color: #f0f8ff;border: 1px dotted black;border-radius: 0.25em;box-sizing: border-box;margin-bottom: 0.5em;}#sk-container-id-1 div.sk-estimator:hover {background-color: #d4ebff;}#sk-container-id-1 div.sk-parallel-item::after {content: \"\";width: 100%;border-bottom: 1px solid gray;flex-grow: 1;}#sk-container-id-1 div.sk-label:hover label.sk-toggleable__label {background-color: #d4ebff;}#sk-container-id-1 div.sk-serial::before {content: \"\";position: absolute;border-left: 1px solid gray;box-sizing: border-box;top: 0;bottom: 0;left: 50%;z-index: 0;}#sk-container-id-1 div.sk-serial {display: flex;flex-direction: column;align-items: center;background-color: white;padding-right: 0.2em;padding-left: 0.2em;position: relative;}#sk-container-id-1 div.sk-item {position: relative;z-index: 1;}#sk-container-id-1 div.sk-parallel {display: flex;align-items: stretch;justify-content: center;background-color: white;position: relative;}#sk-container-id-1 div.sk-item::before, #sk-container-id-1 div.sk-parallel-item::before {content: \"\";position: absolute;border-left: 1px solid gray;box-sizing: border-box;top: 0;bottom: 0;left: 50%;z-index: -1;}#sk-container-id-1 div.sk-parallel-item {display: flex;flex-direction: column;z-index: 1;position: relative;background-color: white;}#sk-container-id-1 div.sk-parallel-item:first-child::after {align-self: flex-end;width: 50%;}#sk-container-id-1 div.sk-parallel-item:last-child::after {align-self: flex-start;width: 50%;}#sk-container-id-1 div.sk-parallel-item:only-child::after {width: 0;}#sk-container-id-1 div.sk-dashed-wrapped {border: 1px dashed gray;margin: 0 0.4em 0.5em 0.4em;box-sizing: border-box;padding-bottom: 0.4em;background-color: white;}#sk-container-id-1 div.sk-label label {font-family: monospace;font-weight: bold;display: inline-block;line-height: 1.2em;}#sk-container-id-1 div.sk-label-container {text-align: center;}#sk-container-id-1 div.sk-container {/* jupyter's `normalize.less` sets `[hidden] { display: none; }` but bootstrap.min.css set `[hidden] { display: none !important; }` so we also need the `!important` here to be able to override the default hidden behavior on the sphinx rendered scikit-learn.org. See: https://github.com/scikit-learn/scikit-learn/issues/21755 */display: inline-block !important;position: relative;}#sk-container-id-1 div.sk-text-repr-fallback {display: none;}</style><div id=\"sk-container-id-1\" class=\"sk-top-container\"><div class=\"sk-text-repr-fallback\"><pre>LinearRegression()</pre><b>In a Jupyter environment, please rerun this cell to show the HTML representation or trust the notebook. <br />On GitHub, the HTML representation is unable to render, please try loading this page with nbviewer.org.</b></div><div class=\"sk-container\" hidden><div class=\"sk-item\"><div class=\"sk-estimator sk-toggleable\"><input class=\"sk-toggleable__control sk-hidden--visually\" id=\"sk-estimator-id-1\" type=\"checkbox\" checked><label for=\"sk-estimator-id-1\" class=\"sk-toggleable__label sk-toggleable__label-arrow\">LinearRegression</label><div class=\"sk-toggleable__content\"><pre>LinearRegression()</pre></div></div></div></div></div>"
      ],
      "text/plain": [
       "LinearRegression()"
      ]
     },
     "execution_count": 45,
     "metadata": {},
     "output_type": "execute_result"
    }
   ],
   "source": [
    "model = LinearRegression()\n",
    "model.fit(X_train, y_train)"
   ]
  },
  {
   "cell_type": "code",
   "execution_count": 48,
   "id": "a1af35eb",
   "metadata": {},
   "outputs": [
    {
     "data": {
      "text/plain": [
       "array([0.12378109])"
      ]
     },
     "execution_count": 48,
     "metadata": {},
     "output_type": "execute_result"
    }
   ],
   "source": [
    "model.coef_"
   ]
  },
  {
   "cell_type": "code",
   "execution_count": 49,
   "id": "c1edd4ad",
   "metadata": {},
   "outputs": [
    {
     "data": {
      "text/plain": [
       "79.76006501832427"
      ]
     },
     "execution_count": 49,
     "metadata": {},
     "output_type": "execute_result"
    }
   ],
   "source": [
    "model.intercept_"
   ]
  },
  {
   "cell_type": "code",
   "execution_count": 51,
   "id": "81501943",
   "metadata": {},
   "outputs": [
    {
     "data": {
      "text/plain": [
       "[<matplotlib.lines.Line2D at 0x127cd5710>]"
      ]
     },
     "execution_count": 51,
     "metadata": {},
     "output_type": "execute_result"
    },
    {
     "data": {
      "image/png": "[encoded data removed]",
      "text/plain": [
       "<Figure size 640x480 with 1 Axes>"
      ]
     },
     "metadata": {},
     "output_type": "display_data"
    }
   ],
   "source": [
    "plt.scatter(df['Volume'], df['curs_dollara'])\n",
    "plt.plot(X, model.predict(X))"
   ]
  },
  {
   "cell_type": "code",
   "execution_count": 46,
   "id": "2d866109",
   "metadata": {},
   "outputs": [],
   "source": [
    "from sklearn.metrics import mean_squared_error"
   ]
  },
  {
   "cell_type": "code",
   "execution_count": 47,
   "id": "ea9edbf8",
   "metadata": {},
   "outputs": [
    {
     "data": {
      "text/plain": [
       "21.881025871581272"
      ]
     },
     "execution_count": 47,
     "metadata": {},
     "output_type": "execute_result"
    }
   ],
   "source": [
    "mean_squared_error(y_test, model.predict(X_test))"
   ]
  },
  {
   "cell_type": "code",
   "execution_count": null,
   "id": "a686bb75",
   "metadata": {},
   "outputs": [],
   "source": []
  }
 ],
 "metadata": {
  "kernelspec": {
   "display_name": "Python 3 (ipykernel)",
   "language": "python",
   "name": "python3"
  },
  "language_info": {
   "codemirror_mode": {
    "name": "ipython",
    "version": 3
   },
   "file_extension": ".py",
   "mimetype": "text/x-python",
   "name": "python",
   "nbconvert_exporter": "python",
   "pygments_lexer": "ipython3",
   "version": "3.11.4"
  }
 },
 "nbformat": 4,
 "nbformat_minor": 5
}
